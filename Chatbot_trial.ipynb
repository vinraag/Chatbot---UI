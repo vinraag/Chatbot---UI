{
 "cells": [
  {
   "cell_type": "code",
   "execution_count": null,
   "metadata": {},
   "outputs": [
    {
     "name": "stderr",
     "output_type": "stream",
     "text": [
      "[nltk_data] Downloading package stopwords to\n",
      "[nltk_data]     C:\\Users\\vndra\\AppData\\Roaming\\nltk_data...\n",
      "[nltk_data]   Package stopwords is already up-to-date!\n",
      "C:\\Users\\vndra\\Anaconda3\\lib\\site-packages\\fuzzywuzzy\\fuzz.py:11: UserWarning: Using slow pure-python SequenceMatcher. Install python-Levenshtein to remove this warning\n",
      "  warnings.warn('Using slow pure-python SequenceMatcher. Install python-Levenshtein to remove this warning')\n"
     ]
    },
    {
     "name": "stdout",
     "output_type": "stream",
     "text": [
      "\r",
      "List Trainer: [                    ] 2%"
     ]
    },
    {
     "name": "stderr",
     "output_type": "stream",
     "text": [
      "[nltk_data] Downloading package averaged_perceptron_tagger to\n",
      "[nltk_data]     C:\\Users\\vndra\\AppData\\Roaming\\nltk_data...\n",
      "[nltk_data]   Package averaged_perceptron_tagger is already up-to-\n",
      "[nltk_data]       date!\n",
      "[nltk_data] Downloading package punkt to\n",
      "[nltk_data]     C:\\Users\\vndra\\AppData\\Roaming\\nltk_data...\n",
      "[nltk_data]   Package punkt is already up-to-date!\n",
      "[nltk_data] Downloading package stopwords to\n",
      "[nltk_data]     C:\\Users\\vndra\\AppData\\Roaming\\nltk_data...\n",
      "[nltk_data]   Package stopwords is already up-to-date!\n"
     ]
    },
    {
     "name": "stdout",
     "output_type": "stream",
     "text": [
      "List Trainer: [####################] 100%\n",
      "Hello, How are you, How can I help you ?\n",
      "When can I move in ?\n"
     ]
    },
    {
     "name": "stderr",
     "output_type": "stream",
     "text": [
      "No value for search_text was available on the provided input\n"
     ]
    },
    {
     "name": "stdout",
     "output_type": "stream",
     "text": [
      "\n",
      " Is \"With our 24-hour rental center, as long as there is a storage unit available that meets your specific storage needs you can move in at anytime.\" a response you expected for your question \"When can I move in ?\"? \n",
      "\n",
      "yes\n",
      "Okay Awesome, Is there anything else I can help you with ?\n",
      "I am a new user\n"
     ]
    },
    {
     "name": "stderr",
     "output_type": "stream",
     "text": [
      "No value for search_text was available on the provided input\n"
     ]
    },
    {
     "name": "stdout",
     "output_type": "stream",
     "text": [
      "\n",
      " Is \"Great, we have location in Alabama, Arkansas, Florida, Georgia, Iowa, Illinois, Indiana, Kansas, Kentucky, Lousiana, Michigan,Missouri, Missippi, Ohio, Pennsylvania, Tennessee and Wisconsin\" a response you expected for your question \"I am a new user\"? \n",
      "\n",
      "yes\n",
      "Okay Awesome, Is there anything else I can help you with ?\n",
      "What is the lease period ?\n"
     ]
    },
    {
     "name": "stderr",
     "output_type": "stream",
     "text": [
      "No value for search_text was available on the provided input\n"
     ]
    },
    {
     "name": "stdout",
     "output_type": "stream",
     "text": [
      "\n",
      " Is \"we rent on a month-to-month basis and do not charge deposit or move in fees\" a response you expected for your question \"What is the lease period ?\"? \n",
      "\n",
      "yes\n",
      "Okay Awesome, Is there anything else I can help you with ?\n"
     ]
    }
   ],
   "source": [
    "from chatterbot import ChatBot\n",
    "from chatterbot.trainers import ListTrainer\n",
    "import itertools\n",
    "from chatterbot.conversation import Statement\n",
    "from chatterbot import comparisons\n",
    "from nltk.corpus import stopwords\n",
    "import nltk\n",
    "nltk.download('stopwords')\n",
    "from nltk.tokenize import word_tokenize\n",
    "from fuzzywuzzy import fuzz\n",
    "import time\n",
    "import pyttsx3\n",
    "\n",
    "\n",
    "chatbot = ChatBot('Zorro',storage_adapter='chatterbot.storage.SQLStorageAdapter',\n",
    "    logic_adapters=[\n",
    "        {\n",
    "            'import_path': 'chatterbot.logic.BestMatch',\n",
    "            \n",
    "            \n",
    "            'maximum_similarity_threshold': 0.70\n",
    "        },\n",
    "         {\n",
    "            'import_path': 'chatterbot.logic.SpecificResponseAdapter',\n",
    "            'input_text': 'Help me!',\n",
    "            'output_text': 'I am always there for you. SHoot your question'\n",
    "        }\n",
    "    ])\n",
    "        \n",
    "file = open(\"C:\\\\Users\\\\vndra\\\\red_dot_storage_2.txt\")\n",
    "file_read = file.read().split('\\n')\n",
    "#####file_read_1 = file_read.remove('')\n",
    "clean_file = []\n",
    "for i in file_read:\n",
    "    if i != '':\n",
    "        clean_file.append(i)\n",
    "\n",
    "trainer = ListTrainer(chatbot)\n",
    "#trainer.train(clean_file)\n",
    "\n",
    "def get_feedback():\n",
    "\n",
    "    text = input()\n",
    "    if 'yes' in text.lower():\n",
    "        \n",
    "        return True\n",
    "    #else: #'no' in text.lower():\n",
    "    if 'no' in text.lower():\n",
    "        return False\n",
    "    \n",
    "Questions = []\n",
    "for i in clean_file:\n",
    "    if i[-1] == '?':\n",
    "        Questions.append(i)\n",
    "        \n",
    "      \n",
    "def fuzzy_logic(User_input):\n",
    "    Questions = []\n",
    "    total_score = []\n",
    "    for i in clean_file:\n",
    "        if i[-1] == '?':\n",
    "            Questions.append(i)\n",
    "    for Question in Questions:\n",
    "        Ratio = fuzz.ratio(Question,User_input)\n",
    "        Partial_Ratio = fuzz.partial_ratio(Question,User_input)\n",
    "        Token_Sort_Ratio = fuzz.token_sort_ratio(Question,User_input)\n",
    "        Token_Set_Ratio = fuzz.token_set_ratio(Question,User_input)\n",
    "        Total_score = Ratio+Partial_Ratio+Token_Sort_Ratio+Token_Set_Ratio\n",
    "        total_score.append(Total_score)\n",
    "        #return Total_score\n",
    "    Question_Index = total_score.index(max(total_score))\n",
    "    reply =  (Questions[Question_Index])\n",
    "    print('{} --- is this the question you intend to ask'.format(reply))\n",
    "    User_reply = input()\n",
    "    if User_reply == 'yes' or User_reply == 'Yes' or User_reply == 'YES':\n",
    "        \n",
    "        #print('Cool ! I will get you the reply you wanted shortly')\n",
    "        response = chatbot.get_response(\n",
    "        reply\n",
    "        )\n",
    "        return response\n",
    "    else:\n",
    "        print('I am sorry. I cannot understand what you say')\n",
    "    #print(Ratio,Partial_Ratio,Token_Sort\n",
    "    \n",
    "    \n",
    "    \n",
    "\n",
    "\n",
    "print('Hello, How are you, How can I help you ?')\n",
    "\n",
    "#set True\n",
    "\n",
    "while True:  \n",
    "\n",
    "\n",
    "    input_statement = Statement(text=input())\n",
    "    engine = pyttsx3.init()\n",
    "    #time.sleep(2)\n",
    "    if input_statement.text == 'bye':\n",
    "        print('Bye, Take Care')\n",
    "        break\n",
    "    else:            \n",
    "        response = chatbot.generate_response(input_statement)\n",
    "        if (response.text == ' ' or response.text[-1] == '?'):\n",
    "            print('I do not have proper response as of now')\n",
    "            Approximate_reply = fuzzy_logic(input_statement.text) \n",
    "            engine.say(Approximate_reply)\n",
    "            engine.runAndWait()\n",
    "            print(Approximate_reply)\n",
    "            print('Does it answer your question ?')\n",
    "            feedback = get_feedback()                 \n",
    "            if feedback is False:\n",
    "                print('please input the correct one')\n",
    "                correct_response = Statement(text=input())\n",
    "                chatbot.learn_response(correct_response, input_statement)\n",
    "                print('Responses added to bot!')\n",
    "                print('Okay Awesome, Is there anything else I can help you with ?')               \n",
    "            if feedback is True: \n",
    "                print('Please visit our site \"https://www.reddotstorage.com/self-storage/search\", Select your location and give us a call. Our customer service team will be able to assist you.')\n",
    "                \n",
    "\n",
    "                    #text_tokens = word_tokenize(input_statement.text)\n",
    "                    #tokens_without_sw = [word for word in text_tokens if not word in stopwords.words()]\n",
    "                    #print(tokens_without_sw)\n",
    "        else:\n",
    "            print_statement = '\\n Is \"{}\" a response you expected for your question \"{}\"? \\n'.format(\n",
    "            response.text,\n",
    "            input_statement.text\n",
    "            )\n",
    "            engine.say(response)\n",
    "            engine.runAndWait()\n",
    "            print(print_statement)\n",
    "            feedback = get_feedback()\n",
    "            if feedback is True:\n",
    "                print('Okay Awesome, Is there anything else I can help you with ?')\n",
    "            \n",
    "\n",
    "            if feedback is False:\n",
    "                print('please input the correct one')\n",
    "                correct_response = Statement(text=input())\n",
    "                chatbot.learn_response(correct_response, input_statement)\n",
    "                print('Responses added to bot!')\n",
    "                print('Okay Awesome, Is there anything else I can help you with ?')\n",
    "                \n",
    "            \n",
    "           \n",
    "           \n",
    "\n",
    "                     \n",
    "\n",
    "    \n",
    "         \n",
    "\n",
    "\n",
    "            \n",
    "    \n",
    "\n",
    "        \n",
    "        \n",
    " \n",
    "          \n",
    "                 \n",
    "    \n",
    "  "
   ]
  },
  {
   "cell_type": "code",
   "execution_count": 1,
   "metadata": {},
   "outputs": [
    {
     "name": "stdout",
     "output_type": "stream",
     "text": [
      "Note: you may need to restart the kernel to use updated packages.\n"
     ]
    },
    {
     "name": "stderr",
     "output_type": "stream",
     "text": [
      "ERROR: Could not find a version that satisfies the requirement nltk_data (from versions: none)\n",
      "ERROR: No matching distribution found for nltk_data\n"
     ]
    }
   ],
   "source": [
    "pip install nltk"
   ]
  },
  {
   "cell_type": "code",
   "execution_count": null,
   "metadata": {},
   "outputs": [],
   "source": []
  }
 ],
 "metadata": {
  "kernelspec": {
   "display_name": "Python 3",
   "language": "python",
   "name": "python3"
  },
  "language_info": {
   "codemirror_mode": {
    "name": "ipython",
    "version": 3
   },
   "file_extension": ".py",
   "mimetype": "text/x-python",
   "name": "python",
   "nbconvert_exporter": "python",
   "pygments_lexer": "ipython3",
   "version": "3.6.5"
  }
 },
 "nbformat": 4,
 "nbformat_minor": 4
}
